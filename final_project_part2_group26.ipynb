{
 "cells": [
  {
   "cell_type": "markdown",
   "id": "71d3c4d9",
   "metadata": {},
   "source": [
    "# Final Project Part 2\n",
    "## group members (Group 26): Powell Hung, Dhruvi Bhagat, Shao-Ren Chen, Sheny Lin"
   ]
  },
  {
   "cell_type": "code",
   "execution_count": 1,
   "id": "5da5eccd",
   "metadata": {},
   "outputs": [],
   "source": [
    "import pandas as pd\n",
    "import bqplot\n",
    "import numpy as np\n",
    "import ipywidgets\n",
    "import matplotlib.pyplot as plt\n",
    "import altair as alt"
   ]
  },
  {
   "cell_type": "code",
   "execution_count": 2,
   "id": "7bd3511b",
   "metadata": {},
   "outputs": [
    {
     "data": {
      "text/html": [
       "<div>\n",
       "<style scoped>\n",
       "    .dataframe tbody tr th:only-of-type {\n",
       "        vertical-align: middle;\n",
       "    }\n",
       "\n",
       "    .dataframe tbody tr th {\n",
       "        vertical-align: top;\n",
       "    }\n",
       "\n",
       "    .dataframe thead th {\n",
       "        text-align: right;\n",
       "    }\n",
       "</style>\n",
       "<table border=\"1\" class=\"dataframe\">\n",
       "  <thead>\n",
       "    <tr style=\"text-align: right;\">\n",
       "      <th></th>\n",
       "      <th>id</th>\n",
       "      <th>name</th>\n",
       "      <th>host_id</th>\n",
       "      <th>host_name</th>\n",
       "      <th>neighbourhood_group</th>\n",
       "      <th>neighbourhood</th>\n",
       "      <th>latitude</th>\n",
       "      <th>longitude</th>\n",
       "      <th>room_type</th>\n",
       "      <th>price</th>\n",
       "      <th>minimum_nights</th>\n",
       "      <th>number_of_reviews</th>\n",
       "      <th>last_review</th>\n",
       "      <th>reviews_per_month</th>\n",
       "      <th>calculated_host_listings_count</th>\n",
       "      <th>availability_365</th>\n",
       "      <th>number_of_reviews_ltm</th>\n",
       "      <th>license</th>\n",
       "    </tr>\n",
       "  </thead>\n",
       "  <tbody>\n",
       "    <tr>\n",
       "      <th>0</th>\n",
       "      <td>39422329</td>\n",
       "      <td>Bleu Chic - Easy access to NYC, EWR &amp; Newark Penn</td>\n",
       "      <td>108374913</td>\n",
       "      <td>Perry</td>\n",
       "      <td>NaN</td>\n",
       "      <td>West</td>\n",
       "      <td>40.73856</td>\n",
       "      <td>-74.21735</td>\n",
       "      <td>Entire home/apt</td>\n",
       "      <td>150</td>\n",
       "      <td>1</td>\n",
       "      <td>117</td>\n",
       "      <td>2022-09-22</td>\n",
       "      <td>3.27</td>\n",
       "      <td>2</td>\n",
       "      <td>270</td>\n",
       "      <td>33</td>\n",
       "      <td>NaN</td>\n",
       "    </tr>\n",
       "    <tr>\n",
       "      <th>1</th>\n",
       "      <td>654189021128024082</td>\n",
       "      <td>COCO CHANEL GETAWAY</td>\n",
       "      <td>429107274</td>\n",
       "      <td>Lux By Us</td>\n",
       "      <td>NaN</td>\n",
       "      <td>West</td>\n",
       "      <td>40.76014</td>\n",
       "      <td>-74.20716</td>\n",
       "      <td>Entire home/apt</td>\n",
       "      <td>83</td>\n",
       "      <td>1</td>\n",
       "      <td>9</td>\n",
       "      <td>2022-09-24</td>\n",
       "      <td>2.81</td>\n",
       "      <td>2</td>\n",
       "      <td>344</td>\n",
       "      <td>9</td>\n",
       "      <td>NaN</td>\n",
       "    </tr>\n",
       "    <tr>\n",
       "      <th>2</th>\n",
       "      <td>53485208</td>\n",
       "      <td>Comfy Studio Apt. Near Downtown Newark!</td>\n",
       "      <td>419402023</td>\n",
       "      <td>Deyshawn</td>\n",
       "      <td>NaN</td>\n",
       "      <td>West</td>\n",
       "      <td>40.76124</td>\n",
       "      <td>-74.20209</td>\n",
       "      <td>Entire home/apt</td>\n",
       "      <td>116</td>\n",
       "      <td>1</td>\n",
       "      <td>6</td>\n",
       "      <td>2022-08-19</td>\n",
       "      <td>0.59</td>\n",
       "      <td>2</td>\n",
       "      <td>210</td>\n",
       "      <td>6</td>\n",
       "      <td>NaN</td>\n",
       "    </tr>\n",
       "    <tr>\n",
       "      <th>3</th>\n",
       "      <td>560261233458217010</td>\n",
       "      <td>Lovely 1-Bedroom rental unit with free parking</td>\n",
       "      <td>438981094</td>\n",
       "      <td>John</td>\n",
       "      <td>NaN</td>\n",
       "      <td>South</td>\n",
       "      <td>40.73140</td>\n",
       "      <td>-74.22270</td>\n",
       "      <td>Entire home/apt</td>\n",
       "      <td>89</td>\n",
       "      <td>2</td>\n",
       "      <td>9</td>\n",
       "      <td>2022-09-04</td>\n",
       "      <td>1.19</td>\n",
       "      <td>2</td>\n",
       "      <td>241</td>\n",
       "      <td>9</td>\n",
       "      <td>NaN</td>\n",
       "    </tr>\n",
       "    <tr>\n",
       "      <th>4</th>\n",
       "      <td>653803742549008649</td>\n",
       "      <td>Cute hideout one bedroom in the heart of Ampere</td>\n",
       "      <td>168551348</td>\n",
       "      <td>Hashim</td>\n",
       "      <td>NaN</td>\n",
       "      <td>North</td>\n",
       "      <td>40.76547</td>\n",
       "      <td>-74.19711</td>\n",
       "      <td>Entire home/apt</td>\n",
       "      <td>84</td>\n",
       "      <td>1</td>\n",
       "      <td>5</td>\n",
       "      <td>2022-08-17</td>\n",
       "      <td>2.38</td>\n",
       "      <td>1</td>\n",
       "      <td>353</td>\n",
       "      <td>5</td>\n",
       "      <td>NaN</td>\n",
       "    </tr>\n",
       "  </tbody>\n",
       "</table>\n",
       "</div>"
      ],
      "text/plain": [
       "                   id                                               name  \\\n",
       "0            39422329  Bleu Chic - Easy access to NYC, EWR & Newark Penn   \n",
       "1  654189021128024082                                COCO CHANEL GETAWAY   \n",
       "2            53485208            Comfy Studio Apt. Near Downtown Newark!   \n",
       "3  560261233458217010     Lovely 1-Bedroom rental unit with free parking   \n",
       "4  653803742549008649    Cute hideout one bedroom in the heart of Ampere   \n",
       "\n",
       "     host_id  host_name  neighbourhood_group neighbourhood  latitude  \\\n",
       "0  108374913      Perry                  NaN          West  40.73856   \n",
       "1  429107274  Lux By Us                  NaN          West  40.76014   \n",
       "2  419402023   Deyshawn                  NaN          West  40.76124   \n",
       "3  438981094       John                  NaN         South  40.73140   \n",
       "4  168551348     Hashim                  NaN         North  40.76547   \n",
       "\n",
       "   longitude        room_type  price  minimum_nights  number_of_reviews  \\\n",
       "0  -74.21735  Entire home/apt    150               1                117   \n",
       "1  -74.20716  Entire home/apt     83               1                  9   \n",
       "2  -74.20209  Entire home/apt    116               1                  6   \n",
       "3  -74.22270  Entire home/apt     89               2                  9   \n",
       "4  -74.19711  Entire home/apt     84               1                  5   \n",
       "\n",
       "  last_review  reviews_per_month  calculated_host_listings_count  \\\n",
       "0  2022-09-22               3.27                               2   \n",
       "1  2022-09-24               2.81                               2   \n",
       "2  2022-08-19               0.59                               2   \n",
       "3  2022-09-04               1.19                               2   \n",
       "4  2022-08-17               2.38                               1   \n",
       "\n",
       "   availability_365  number_of_reviews_ltm license  \n",
       "0               270                     33     NaN  \n",
       "1               344                      9     NaN  \n",
       "2               210                      6     NaN  \n",
       "3               241                      9     NaN  \n",
       "4               353                      5     NaN  "
      ]
     },
     "execution_count": 2,
     "metadata": {},
     "output_type": "execute_result"
    }
   ],
   "source": [
    "df = pd.read_csv('http://data.insideairbnb.com/united-states/nj/newark/2022-09-28/visualisations/listings.csv')\n",
    "df.head()"
   ]
  },
  {
   "cell_type": "code",
   "execution_count": 3,
   "id": "e96a205b",
   "metadata": {},
   "outputs": [],
   "source": [
    "# table = pd.pivot_table(df, index=[\"room_type\"], columns=[\"neighbourhood\"], values=\"number_of_reviews\", aggfunc=sum)\n",
    "# table"
   ]
  },
  {
   "cell_type": "code",
   "execution_count": 4,
   "id": "6ca1b39c",
   "metadata": {},
   "outputs": [],
   "source": [
    "# df[\"room_type\"].unique() == table.index"
   ]
  },
  {
   "cell_type": "code",
   "execution_count": 5,
   "id": "b2f3ebff",
   "metadata": {},
   "outputs": [],
   "source": [
    "# table.index.values.astype('str')"
   ]
  },
  {
   "cell_type": "code",
   "execution_count": 6,
   "id": "425c318a",
   "metadata": {},
   "outputs": [],
   "source": [
    "# def on_selection(change):\n",
    "#     if len(change['owner'].selected) == 1:\n",
    "#         i, j = change['owner'].selected[0]\n",
    "        \n",
    "#         room = table.columns[j]\n",
    "#         neighbour = table.index[i]\n",
    "# #         print(license type, license status)\n",
    "#         mask = (df[\"room_type\"] == room) & (df[\"neighbourhood\"] == neighbour)\n",
    "#         subset = df[mask]\n",
    "# #         print(subset)\n",
    "#         review = subset['number_of_reviews']\n",
    "#         bar.x = review.index\n",
    "#         bar.y = review.values"
   ]
  },
  {
   "cell_type": "code",
   "execution_count": 7,
   "id": "031a7d2a",
   "metadata": {},
   "outputs": [],
   "source": [
    "# x_ticks = table.columns \n",
    "# y_ticks = table.index\n",
    "# # Scales \n",
    "\n",
    "# # x, y scale\n",
    "# x_sc = bqplot.OrdinalScale()\n",
    "# y_sc = bqplot.OrdinalScale()\n",
    "\n",
    "# # color_scale\n",
    "# col_sc = bqplot.ColorScale(scheme = 'Greens', min=100, max=1000000)\n",
    "\n",
    "# # Axis\n",
    "# # coloe axis(color bar)\n",
    "# col_ax = bqplot.ColorAxis(scale=col_sc, orientation='vertical', side='right')\n",
    "\n",
    "# # x, y axis\n",
    "# x_ax = bqplot.Axis(scale=x_sc, tick_rotate=90, label = 'Neighbourhood')\n",
    "# y_ax = bqplot.Axis(scale=y_sc, orientation='vertical', label='Room Type')\n",
    "\n",
    "# # Mark -- a color-scale like mark\n",
    "# heat_map = bqplot.GridHeatMap(color=table,\n",
    "#                               scales={'color': col_sc,'row': y_sc, \"column\": x_sc},\n",
    "#                               interactions={'click':'select'},\n",
    "#                               anchor_style={'fill':'blue'},\n",
    "#                               selected_style={'opacity':1.0},\n",
    "#                               unselected_style={'opacity':0.8},\n",
    "#                               column=x_ticks,\n",
    "#                               row=y_ticks)\n",
    "# heat_map.observe(on_selection, 'selected')\n",
    "# # Figure\n",
    "# fig_heat = bqplot.Figure(marks=[heat_map], axes=[col_ax, y_ax, x_ax], figsize=(50,50))\n",
    "# fig_heat"
   ]
  },
  {
   "cell_type": "markdown",
   "id": "19c3184a",
   "metadata": {},
   "source": [
    "## Visualization 1: Histogram"
   ]
  },
  {
   "cell_type": "code",
   "execution_count": 8,
   "id": "98df9af9",
   "metadata": {},
   "outputs": [
    {
     "data": {
      "text/html": [
       "\n",
       "<div id=\"altair-viz-ed08081bc7ec416ea5ab3f12c449e481\"></div>\n",
       "<script type=\"text/javascript\">\n",
       "  var VEGA_DEBUG = (typeof VEGA_DEBUG == \"undefined\") ? {} : VEGA_DEBUG;\n",
       "  (function(spec, embedOpt){\n",
       "    let outputDiv = document.currentScript.previousElementSibling;\n",
       "    if (outputDiv.id !== \"altair-viz-ed08081bc7ec416ea5ab3f12c449e481\") {\n",
       "      outputDiv = document.getElementById(\"altair-viz-ed08081bc7ec416ea5ab3f12c449e481\");\n",
       "    }\n",
       "    const paths = {\n",
       "      \"vega\": \"https://cdn.jsdelivr.net/npm//vega@5?noext\",\n",
       "      \"vega-lib\": \"https://cdn.jsdelivr.net/npm//vega-lib?noext\",\n",
       "      \"vega-lite\": \"https://cdn.jsdelivr.net/npm//vega-lite@4.17.0?noext\",\n",
       "      \"vega-embed\": \"https://cdn.jsdelivr.net/npm//vega-embed@6?noext\",\n",
       "    };\n",
       "\n",
       "    function maybeLoadScript(lib, version) {\n",
       "      var key = `${lib.replace(\"-\", \"\")}_version`;\n",
       "      return (VEGA_DEBUG[key] == version) ?\n",
       "        Promise.resolve(paths[lib]) :\n",
       "        new Promise(function(resolve, reject) {\n",
       "          var s = document.createElement('script');\n",
       "          document.getElementsByTagName(\"head\")[0].appendChild(s);\n",
       "          s.async = true;\n",
       "          s.onload = () => {\n",
       "            VEGA_DEBUG[key] = version;\n",
       "            return resolve(paths[lib]);\n",
       "          };\n",
       "          s.onerror = () => reject(`Error loading script: ${paths[lib]}`);\n",
       "          s.src = paths[lib];\n",
       "        });\n",
       "    }\n",
       "\n",
       "    function showError(err) {\n",
       "      outputDiv.innerHTML = `<div class=\"error\" style=\"color:red;\">${err}</div>`;\n",
       "      throw err;\n",
       "    }\n",
       "\n",
       "    function displayChart(vegaEmbed) {\n",
       "      vegaEmbed(outputDiv, spec, embedOpt)\n",
       "        .catch(err => showError(`Javascript Error: ${err.message}<br>This usually means there's a typo in your chart specification. See the javascript console for the full traceback.`));\n",
       "    }\n",
       "\n",
       "    if(typeof define === \"function\" && define.amd) {\n",
       "      requirejs.config({paths});\n",
       "      require([\"vega-embed\"], displayChart, err => showError(`Error loading script: ${err.message}`));\n",
       "    } else {\n",
       "      maybeLoadScript(\"vega\", \"5\")\n",
       "        .then(() => maybeLoadScript(\"vega-lite\", \"4.17.0\"))\n",
       "        .then(() => maybeLoadScript(\"vega-embed\", \"6\"))\n",
       "        .catch(showError)\n",
       "        .then(() => displayChart(vegaEmbed));\n",
       "    }\n",
       "  })({\"config\": {\"view\": {\"continuousWidth\": 400, \"continuousHeight\": 300}}, \"layer\": [{\"mark\": {\"type\": \"bar\", \"color\": \"red\", \"tooltip\": true}, \"encoding\": {\"x\": {\"field\": \"room_type\", \"title\": \"Room Type\", \"type\": \"ordinal\"}, \"y\": {\"aggregate\": \"average\", \"field\": \"number_of_reviews\", \"title\": \"Average Number of Reviews\", \"type\": \"quantitative\"}}}], \"data\": {\"url\": \"https://raw.githubusercontent.com/shenylin/shenylin.github.io/main/Airbnb_Newark_listings.csv\"}, \"height\": 500, \"title\": \"Average Number of Reviews by Room Type in Newark\", \"width\": 500, \"$schema\": \"https://vega.github.io/schema/vega-lite/v4.17.0.json\"}, {\"mode\": \"vega-lite\"});\n",
       "</script>"
      ],
      "text/plain": [
       "alt.LayerChart(...)"
      ]
     },
     "execution_count": 8,
     "metadata": {},
     "output_type": "execute_result"
    }
   ],
   "source": [
    "chart = alt.Chart.from_dict({\n",
    "    'data': {'url':'https://raw.githubusercontent.com/shenylin/shenylin.github.io/main/Airbnb_Newark_listings.csv'},\n",
    "            'height': 500,\n",
    "            'width': 500,\n",
    "            'title': 'Average Number of Reviews by Room Type in Newark',\n",
    "            'layer': [{'mark': {'type':'bar','tooltip': True,'color': 'red'},\n",
    "                      'encoding': {'x': {'field': 'room_type', 'type': 'ordinal', 'title': 'Room Type'},\n",
    "                'y':{'aggregate': 'average', 'field': 'number_of_reviews', \"type\": 'quantitative', 'title': 'Average Number of Reviews'}}}]\n",
    "})\n",
    "chart"
   ]
  },
  {
   "cell_type": "code",
   "execution_count": 9,
   "id": "f5e02287",
   "metadata": {
    "scrolled": true
   },
   "outputs": [
    {
     "data": {
      "text/html": [
       "\n",
       "<div id=\"altair-viz-e693f9f23e5b4060b4de459de9ada3ad\"></div>\n",
       "<script type=\"text/javascript\">\n",
       "  var VEGA_DEBUG = (typeof VEGA_DEBUG == \"undefined\") ? {} : VEGA_DEBUG;\n",
       "  (function(spec, embedOpt){\n",
       "    let outputDiv = document.currentScript.previousElementSibling;\n",
       "    if (outputDiv.id !== \"altair-viz-e693f9f23e5b4060b4de459de9ada3ad\") {\n",
       "      outputDiv = document.getElementById(\"altair-viz-e693f9f23e5b4060b4de459de9ada3ad\");\n",
       "    }\n",
       "    const paths = {\n",
       "      \"vega\": \"https://cdn.jsdelivr.net/npm//vega@5?noext\",\n",
       "      \"vega-lib\": \"https://cdn.jsdelivr.net/npm//vega-lib?noext\",\n",
       "      \"vega-lite\": \"https://cdn.jsdelivr.net/npm//vega-lite@4.17.0?noext\",\n",
       "      \"vega-embed\": \"https://cdn.jsdelivr.net/npm//vega-embed@6?noext\",\n",
       "    };\n",
       "\n",
       "    function maybeLoadScript(lib, version) {\n",
       "      var key = `${lib.replace(\"-\", \"\")}_version`;\n",
       "      return (VEGA_DEBUG[key] == version) ?\n",
       "        Promise.resolve(paths[lib]) :\n",
       "        new Promise(function(resolve, reject) {\n",
       "          var s = document.createElement('script');\n",
       "          document.getElementsByTagName(\"head\")[0].appendChild(s);\n",
       "          s.async = true;\n",
       "          s.onload = () => {\n",
       "            VEGA_DEBUG[key] = version;\n",
       "            return resolve(paths[lib]);\n",
       "          };\n",
       "          s.onerror = () => reject(`Error loading script: ${paths[lib]}`);\n",
       "          s.src = paths[lib];\n",
       "        });\n",
       "    }\n",
       "\n",
       "    function showError(err) {\n",
       "      outputDiv.innerHTML = `<div class=\"error\" style=\"color:red;\">${err}</div>`;\n",
       "      throw err;\n",
       "    }\n",
       "\n",
       "    function displayChart(vegaEmbed) {\n",
       "      vegaEmbed(outputDiv, spec, embedOpt)\n",
       "        .catch(err => showError(`Javascript Error: ${err.message}<br>This usually means there's a typo in your chart specification. See the javascript console for the full traceback.`));\n",
       "    }\n",
       "\n",
       "    if(typeof define === \"function\" && define.amd) {\n",
       "      requirejs.config({paths});\n",
       "      require([\"vega-embed\"], displayChart, err => showError(`Error loading script: ${err.message}`));\n",
       "    } else {\n",
       "      maybeLoadScript(\"vega\", \"5\")\n",
       "        .then(() => maybeLoadScript(\"vega-lite\", \"4.17.0\"))\n",
       "        .then(() => maybeLoadScript(\"vega-embed\", \"6\"))\n",
       "        .catch(showError)\n",
       "        .then(() => displayChart(vegaEmbed));\n",
       "    }\n",
       "  })({\"config\": {\"view\": {\"continuousWidth\": 400, \"continuousHeight\": 300}}, \"layer\": [{\"mark\": {\"type\": \"point\", \"color\": \"green\", \"tooltip\": true}, \"encoding\": {\"x\": {\"field\": \"room_type\", \"title\": \"Room Type\", \"type\": \"nominal\"}, \"y\": {\"aggregate\": \"average\", \"field\": \"number_of_reviews\", \"title\": \"Average Number of Reviews\", \"type\": \"quantitative\"}}}], \"data\": {\"url\": \"http://data.insideairbnb.com/united-states/nj/newark/2022-09-28/visualisations/listings.csv\"}, \"height\": 400, \"width\": 500, \"$schema\": \"https://vega.github.io/schema/vega-lite/v4.17.0.json\"}, {\"mode\": \"vega-lite\"});\n",
       "</script>"
      ],
      "text/plain": [
       "alt.LayerChart(...)"
      ]
     },
     "execution_count": 9,
     "metadata": {},
     "output_type": "execute_result"
    }
   ],
   "source": [
    "chart_2 = alt.Chart.from_dict({\n",
    "  \"data\":{\"url\":\"http://data.insideairbnb.com/united-states/nj/newark/2022-09-28/visualisations/listings.csv\"},\n",
    "  \"height\":400,\n",
    "  \"width\":500,\n",
    "  'layer':[{\"mark\":{'type': \"point\",'tooltip': True, 'color': 'green'},\n",
    "           \"encoding\":{\"x\":{\"field\":\"room_type\",\"type\":\"nominal\",'title': 'Room Type'},\n",
    "                       \"y\":{'aggregate': 'average',\"field\":\"number_of_reviews\", \"type\":\"quantitative\",'title': 'Average Number of Reviews'}   \n",
    "  }}]\n",
    "})\n",
    "chart_2"
   ]
  },
  {
   "cell_type": "code",
   "execution_count": 10,
   "id": "3a3d0fd9",
   "metadata": {},
   "outputs": [],
   "source": [
    "# table = pd.pivot_table(df, index=[\"room_type\"], columns=[\"neighbourhood\"], values=\"price\", aggfunc=np.mean)\n",
    "# table"
   ]
  },
  {
   "cell_type": "code",
   "execution_count": 11,
   "id": "d1edf267",
   "metadata": {},
   "outputs": [],
   "source": [
    "# df[\"room_type\"].unique() == table.index"
   ]
  },
  {
   "cell_type": "code",
   "execution_count": 12,
   "id": "e58fc044",
   "metadata": {},
   "outputs": [],
   "source": [
    "# table.index.values.astype('str')"
   ]
  },
  {
   "cell_type": "code",
   "execution_count": 13,
   "id": "55f030f3",
   "metadata": {},
   "outputs": [],
   "source": [
    "# def on_selection(change):\n",
    "#     if len(change['owner'].selected) == 1:\n",
    "#         i, j = change['owner'].selected[0]\n",
    "        \n",
    "#         neighborhood = table.index[i]\n",
    "#         room = table.columns[j]\n",
    "        \n",
    "#         mask = (df[\"room_type\"] == room) & (df[\"neighbourhood\"] == neighborhood)\n",
    "#         subset = df[mask]\n",
    "\n",
    "#         review = subset['price']\n",
    "#         #bar.x = review.index\n",
    "#         #bar.y = review.values\n",
    "        \n",
    "#         #mySelectedLabel.value = 'Data Sum = ' + str('price') # set our label\n",
    "#         hist.sample = df[\"room_type\"]\n",
    "        \n",
    "        \n",
    "# # make sure we connect to heatmap     \n",
    "# heat_map.observe(on_selection, 'selected')"
   ]
  },
  {
   "cell_type": "code",
   "execution_count": 14,
   "id": "e8d68632",
   "metadata": {},
   "outputs": [],
   "source": [
    "# # (I) CREATE LABEL\n",
    "# mySelectedLabel = ipywidgets.Label()"
   ]
  },
  {
   "cell_type": "code",
   "execution_count": 15,
   "id": "dbc1f625",
   "metadata": {},
   "outputs": [],
   "source": [
    "# ## Heatmap\n",
    "\n",
    "# x_ticks = table.columns \n",
    "# y_ticks = table.index\n",
    "\n",
    "# # Scales \n",
    "# # color_scale\n",
    "# col_sc = bqplot.ColorScale(scheme = 'RdPu', min=0, max=300)\n",
    "# # x, y scale\n",
    "# x_sc = bqplot.OrdinalScale()\n",
    "# y_sc = bqplot.OrdinalScale()\n",
    "\n",
    "# # Axis\n",
    "# # color axis(color bar)\n",
    "# col_ax = bqplot.ColorAxis(scale=col_sc, orientation='vertical', \n",
    "# side='right')\n",
    "# # x, y axis\n",
    "# x_ax = bqplot.Axis(scale=x_sc, label = 'Neighborhood')\n",
    "# y_ax = bqplot.Axis(scale=y_sc, orientation='vertical', label='Room Type')\n",
    "\n",
    "# # Marks -- a color-scale like mark\n",
    "# heat_map = bqplot.GridHeatMap(color=table,   \n",
    "#                               scales={'color': col_sc,\n",
    "#                                       'row': y_sc, \n",
    "#                                       'column': x_sc},\n",
    "#                               interactions={'click':'select'},  # make interactive on click of each box\n",
    "#                               anchor_style={'fill':'blue'}, # to make our selection blue\n",
    "#                               selected_style={'opacity':1.0}, # make 100% opaque if box is selected\n",
    "#                               unselected_style={'opacity':0.8}, # make a little see-through if not\n",
    "#                               column=x_ticks,\n",
    "#                               row=y_ticks)\n",
    "\n",
    "# heat_map.observe(on_selection, 'selected')\n",
    "\n",
    "# # Figure\n",
    "# fig_heat = bqplot.Figure(marks=[heat_map], \n",
    "#                          axes=[col_ax, y_ax, x_ax], figsize=(50,50))\n",
    "# fig_heat"
   ]
  },
  {
   "cell_type": "markdown",
   "id": "d9970a9a",
   "metadata": {},
   "source": [
    "#2 histogram:"
   ]
  },
  {
   "cell_type": "code",
   "execution_count": 16,
   "id": "4371833d",
   "metadata": {
    "scrolled": true
   },
   "outputs": [],
   "source": [
    "# # we do need to create our scales and axes like we've been doing before:\n",
    "# x_sch = bqplot.OrdinalScale()\n",
    "# y_sch = bqplot.LinearScale()\n",
    "\n",
    "# x_axh = bqplot.Axis(scale = x_sch, label = 'Room Type')\n",
    "# y_axh = bqplot.Axis(scale = y_sch, orientation = 'vertical', label = 'Number of Reviews', side='left')\n",
    "\n",
    "# # (2) now, lets do an interactive rebinning, but lets\n",
    "# # use bqplot and a slider widget to do it\n",
    "# hist = bqplot.Hist(sample = df[\"room_type\"],\n",
    "#                    scales = {'sample': x_sch, 'count': y_sch},\n",
    "#                    bins = 5) \n",
    " \n",
    "\n",
    "# # construct a hist fig\n",
    "# fig_hist = bqplot.Figure(marks = [hist], axes = [x_axh, y_axh])\n",
    "# fig_hist"
   ]
  },
  {
   "cell_type": "markdown",
   "id": "40867c82",
   "metadata": {},
   "source": [
    "Create dashboard layout and display:"
   ]
  },
  {
   "cell_type": "code",
   "execution_count": 17,
   "id": "d422cc9d",
   "metadata": {},
   "outputs": [],
   "source": [
    "# # side by side figures\n",
    "# fig_heat.layout.min_width = '500px' # feel free to change for your screen\n",
    "# fig_hist.layout.min_width = '500px'\n",
    "# figures = ipywidgets.HBox([fig_heat, fig_hist])\n",
    "\n",
    "# # label on top\n",
    "# myDashboard = ipywidgets.VBox([mySelectedLabel, figures])\n",
    "# myDashboard"
   ]
  },
  {
   "cell_type": "markdown",
   "id": "e9c58e28",
   "metadata": {},
   "source": [
    "## Visualization 2: Dashboard"
   ]
  },
  {
   "cell_type": "code",
   "execution_count": 18,
   "id": "08b4a2f7",
   "metadata": {},
   "outputs": [],
   "source": [
    "brush = alt.selection_interval(encodings=['x','y'])"
   ]
  },
  {
   "cell_type": "code",
   "execution_count": 19,
   "id": "608f0a18",
   "metadata": {
    "scrolled": false
   },
   "outputs": [
    {
     "data": {
      "text/html": [
       "\n",
       "<div id=\"altair-viz-7ce51ba08cca465c86a3a7128d5159f0\"></div>\n",
       "<script type=\"text/javascript\">\n",
       "  var VEGA_DEBUG = (typeof VEGA_DEBUG == \"undefined\") ? {} : VEGA_DEBUG;\n",
       "  (function(spec, embedOpt){\n",
       "    let outputDiv = document.currentScript.previousElementSibling;\n",
       "    if (outputDiv.id !== \"altair-viz-7ce51ba08cca465c86a3a7128d5159f0\") {\n",
       "      outputDiv = document.getElementById(\"altair-viz-7ce51ba08cca465c86a3a7128d5159f0\");\n",
       "    }\n",
       "    const paths = {\n",
       "      \"vega\": \"https://cdn.jsdelivr.net/npm//vega@5?noext\",\n",
       "      \"vega-lib\": \"https://cdn.jsdelivr.net/npm//vega-lib?noext\",\n",
       "      \"vega-lite\": \"https://cdn.jsdelivr.net/npm//vega-lite@4.17.0?noext\",\n",
       "      \"vega-embed\": \"https://cdn.jsdelivr.net/npm//vega-embed@6?noext\",\n",
       "    };\n",
       "\n",
       "    function maybeLoadScript(lib, version) {\n",
       "      var key = `${lib.replace(\"-\", \"\")}_version`;\n",
       "      return (VEGA_DEBUG[key] == version) ?\n",
       "        Promise.resolve(paths[lib]) :\n",
       "        new Promise(function(resolve, reject) {\n",
       "          var s = document.createElement('script');\n",
       "          document.getElementsByTagName(\"head\")[0].appendChild(s);\n",
       "          s.async = true;\n",
       "          s.onload = () => {\n",
       "            VEGA_DEBUG[key] = version;\n",
       "            return resolve(paths[lib]);\n",
       "          };\n",
       "          s.onerror = () => reject(`Error loading script: ${paths[lib]}`);\n",
       "          s.src = paths[lib];\n",
       "        });\n",
       "    }\n",
       "\n",
       "    function showError(err) {\n",
       "      outputDiv.innerHTML = `<div class=\"error\" style=\"color:red;\">${err}</div>`;\n",
       "      throw err;\n",
       "    }\n",
       "\n",
       "    function displayChart(vegaEmbed) {\n",
       "      vegaEmbed(outputDiv, spec, embedOpt)\n",
       "        .catch(err => showError(`Javascript Error: ${err.message}<br>This usually means there's a typo in your chart specification. See the javascript console for the full traceback.`));\n",
       "    }\n",
       "\n",
       "    if(typeof define === \"function\" && define.amd) {\n",
       "      requirejs.config({paths});\n",
       "      require([\"vega-embed\"], displayChart, err => showError(`Error loading script: ${err.message}`));\n",
       "    } else {\n",
       "      maybeLoadScript(\"vega\", \"5\")\n",
       "        .then(() => maybeLoadScript(\"vega-lite\", \"4.17.0\"))\n",
       "        .then(() => maybeLoadScript(\"vega-embed\", \"6\"))\n",
       "        .catch(showError)\n",
       "        .then(() => displayChart(vegaEmbed));\n",
       "    }\n",
       "  })({\"config\": {\"view\": {\"continuousWidth\": 400, \"continuousHeight\": 300}}, \"data\": {\"url\": \"https://raw.githubusercontent.com/shenylin/shenylin.github.io/main/Airbnb_Newark_listings.csv\"}, \"mark\": \"rect\", \"encoding\": {\"color\": {\"aggregate\": \"count\", \"type\": \"quantitative\"}, \"x\": {\"bin\": true, \"field\": \"price\", \"title\": \"Price\", \"type\": \"quantitative\"}, \"y\": {\"field\": \"neighbourhood\", \"title\": \"Neighborhood\", \"type\": \"nominal\"}}, \"height\": 400, \"selection\": {\"selector001\": {\"type\": \"interval\", \"encodings\": [\"x\", \"y\"]}}, \"width\": 400, \"$schema\": \"https://vega.github.io/schema/vega-lite/v4.17.0.json\"}, {\"mode\": \"vega-lite\"});\n",
       "</script>"
      ],
      "text/plain": [
       "alt.Chart(...)"
      ]
     },
     "execution_count": 19,
     "metadata": {},
     "output_type": "execute_result"
    }
   ],
   "source": [
    "rect = alt.Chart.from_dict({\n",
    "  \"data\":{\"url\":\"https://raw.githubusercontent.com/shenylin/shenylin.github.io/main/Airbnb_Newark_listings.csv\"},\n",
    "  \"mark\":\"rect\",\n",
    "  \"height\":400,\n",
    "  \"width\":400,\n",
    "  \"encoding\":{\n",
    "      \"x\":{\"bin\":True,\"field\":\"price\",\"type\":\"quantitative\",\"title\": \"Price\"},\n",
    "      \"y\":{\"field\":\"neighbourhood\", \"type\":\"nominal\",'title': 'Neighborhood'},\n",
    "      \"color\":{\"aggregate\":\"count\", \"type\":\"quantitative\"} \n",
    "      \n",
    "  }\n",
    "}).add_selection(\n",
    "    brush\n",
    ")\n",
    "rect"
   ]
  },
  {
   "cell_type": "code",
   "execution_count": 20,
   "id": "ff173ec8",
   "metadata": {},
   "outputs": [],
   "source": [
    "hist = alt.Chart.from_dict({\n",
    "    'data': {'url':'https://raw.githubusercontent.com/shenylin/shenylin.github.io/main/Airbnb_Newark_listings.csv'},\n",
    "            'height': 400,\n",
    "            'width': 400,\n",
    "            'title': 'Average Number of Reviews by Room Type in Newark',\n",
    "            'layer': [{'mark': {'type':'bar','tooltip': True,'color': 'blue'},\n",
    "                      'encoding': {'x': {'field': 'room_type', 'type': 'nominal', 'title': 'Room Type'},\n",
    "                'y':{'aggregate': 'average', 'field': 'number_of_reviews', \"type\": 'quantitative', 'title': 'Average Number of Reviews'}}}]\n",
    "}).transform_filter(\n",
    "    brush\n",
    ")"
   ]
  },
  {
   "cell_type": "code",
   "execution_count": 21,
   "id": "1103f7d3",
   "metadata": {},
   "outputs": [],
   "source": [
    "dashboard = rect | hist"
   ]
  },
  {
   "cell_type": "code",
   "execution_count": 22,
   "id": "e7645056",
   "metadata": {
    "scrolled": true
   },
   "outputs": [
    {
     "data": {
      "text/html": [
       "\n",
       "<div id=\"altair-viz-db041c06dfbe4585bd6f3cb5ca637509\"></div>\n",
       "<script type=\"text/javascript\">\n",
       "  var VEGA_DEBUG = (typeof VEGA_DEBUG == \"undefined\") ? {} : VEGA_DEBUG;\n",
       "  (function(spec, embedOpt){\n",
       "    let outputDiv = document.currentScript.previousElementSibling;\n",
       "    if (outputDiv.id !== \"altair-viz-db041c06dfbe4585bd6f3cb5ca637509\") {\n",
       "      outputDiv = document.getElementById(\"altair-viz-db041c06dfbe4585bd6f3cb5ca637509\");\n",
       "    }\n",
       "    const paths = {\n",
       "      \"vega\": \"https://cdn.jsdelivr.net/npm//vega@5?noext\",\n",
       "      \"vega-lib\": \"https://cdn.jsdelivr.net/npm//vega-lib?noext\",\n",
       "      \"vega-lite\": \"https://cdn.jsdelivr.net/npm//vega-lite@4.17.0?noext\",\n",
       "      \"vega-embed\": \"https://cdn.jsdelivr.net/npm//vega-embed@6?noext\",\n",
       "    };\n",
       "\n",
       "    function maybeLoadScript(lib, version) {\n",
       "      var key = `${lib.replace(\"-\", \"\")}_version`;\n",
       "      return (VEGA_DEBUG[key] == version) ?\n",
       "        Promise.resolve(paths[lib]) :\n",
       "        new Promise(function(resolve, reject) {\n",
       "          var s = document.createElement('script');\n",
       "          document.getElementsByTagName(\"head\")[0].appendChild(s);\n",
       "          s.async = true;\n",
       "          s.onload = () => {\n",
       "            VEGA_DEBUG[key] = version;\n",
       "            return resolve(paths[lib]);\n",
       "          };\n",
       "          s.onerror = () => reject(`Error loading script: ${paths[lib]}`);\n",
       "          s.src = paths[lib];\n",
       "        });\n",
       "    }\n",
       "\n",
       "    function showError(err) {\n",
       "      outputDiv.innerHTML = `<div class=\"error\" style=\"color:red;\">${err}</div>`;\n",
       "      throw err;\n",
       "    }\n",
       "\n",
       "    function displayChart(vegaEmbed) {\n",
       "      vegaEmbed(outputDiv, spec, embedOpt)\n",
       "        .catch(err => showError(`Javascript Error: ${err.message}<br>This usually means there's a typo in your chart specification. See the javascript console for the full traceback.`));\n",
       "    }\n",
       "\n",
       "    if(typeof define === \"function\" && define.amd) {\n",
       "      requirejs.config({paths});\n",
       "      require([\"vega-embed\"], displayChart, err => showError(`Error loading script: ${err.message}`));\n",
       "    } else {\n",
       "      maybeLoadScript(\"vega\", \"5\")\n",
       "        .then(() => maybeLoadScript(\"vega-lite\", \"4.17.0\"))\n",
       "        .then(() => maybeLoadScript(\"vega-embed\", \"6\"))\n",
       "        .catch(showError)\n",
       "        .then(() => displayChart(vegaEmbed));\n",
       "    }\n",
       "  })({\"config\": {\"view\": {\"continuousWidth\": 400, \"continuousHeight\": 300}}, \"hconcat\": [{\"data\": {\"url\": \"https://raw.githubusercontent.com/shenylin/shenylin.github.io/main/Airbnb_Newark_listings.csv\"}, \"mark\": \"rect\", \"encoding\": {\"color\": {\"aggregate\": \"count\", \"type\": \"quantitative\"}, \"x\": {\"bin\": true, \"field\": \"price\", \"title\": \"Price\", \"type\": \"quantitative\"}, \"y\": {\"field\": \"neighbourhood\", \"title\": \"Neighborhood\", \"type\": \"nominal\"}}, \"height\": 400, \"selection\": {\"selector001\": {\"type\": \"interval\", \"encodings\": [\"x\", \"y\"]}}, \"width\": 400}, {\"layer\": [{\"mark\": {\"type\": \"bar\", \"color\": \"blue\", \"tooltip\": true}, \"encoding\": {\"x\": {\"field\": \"room_type\", \"title\": \"Room Type\", \"type\": \"nominal\"}, \"y\": {\"aggregate\": \"average\", \"field\": \"number_of_reviews\", \"title\": \"Average Number of Reviews\", \"type\": \"quantitative\"}}}], \"data\": {\"url\": \"https://raw.githubusercontent.com/shenylin/shenylin.github.io/main/Airbnb_Newark_listings.csv\"}, \"height\": 400, \"title\": \"Average Number of Reviews by Room Type in Newark\", \"transform\": [{\"filter\": {\"selection\": \"selector001\"}}], \"width\": 400}], \"$schema\": \"https://vega.github.io/schema/vega-lite/v4.17.0.json\"}, {\"mode\": \"vega-lite\"});\n",
       "</script>"
      ],
      "text/plain": [
       "alt.HConcatChart(...)"
      ]
     },
     "execution_count": 22,
     "metadata": {},
     "output_type": "execute_result"
    }
   ],
   "source": [
    "dashboard"
   ]
  },
  {
   "cell_type": "markdown",
   "id": "57238ca8",
   "metadata": {},
   "source": [
    "# How large is the dataset"
   ]
  },
  {
   "cell_type": "markdown",
   "id": "0e876fc1",
   "metadata": {},
   "source": [
    "Size of our dataset (listings.csv) is 240KB. This size is considerable less than the Github limit as specified on the site. So, we do not need to revise your data-hosting plan."
   ]
  },
  {
   "cell_type": "markdown",
   "id": "e1d18e77",
   "metadata": {},
   "source": [
    "# Write-up\n",
    "\n",
    "The dashboard was created to facilitate the understanding of the relationship between \"Neighborhood (in Newark, NJ)\" and \"Price (per night)\" as well as \"Room Type\" and \"Average Number of Review\" of the Airbnb listings in Newark, NJ. This visualization is a dashboard with a heatmap on the left and a bar plot on the right.\n",
    "\n",
    "As for design choices, \"Price per night\" is a quantitative value, \"Neighborhood\" is a discrete unordered category, and the \"Room Type\" is a discrete unordered category which makes it nominal as well . \n",
    "\n",
    "We ensure the encoding of “price“ to be quantitative in order to make it work well with Altair. The color choices in this visualization is by default and if you make a selection on the heatmap, the bar plot will reflect the values accordingly. Therefore, we can see the relationship among the \"Neighborhoods (in Newark, NJ)\", \"Price (per night)\", \"Room Type\" and \"Average Number of Review\" of the Airbnb listings in Newark, NJ."
   ]
  },
  {
   "cell_type": "markdown",
   "id": "caaca6bc",
   "metadata": {},
   "source": [
    "# Contextual datasets"
   ]
  },
  {
   "cell_type": "markdown",
   "id": "af471c53",
   "metadata": {},
   "source": [
    "In order to include contextual visualizations in our Final Project Part 3, we identified the following contextual datasets from the same source - Airbnb.\n",
    "\n",
    "The current dataset used is \"listing.csv\" of Newark and we found other datasets such as \"reviews.csv (12 MB)\" and \"neighbourhoods.geojson (28.2 KB)\" to add addtional context to our visualization. And if we're onto a bigger picture of Airbnb national/worldwide, datasets of cities in other states/countries are also provided in the same webpage.  \n",
    "\n",
    "**Source**\n",
    "- Inside Airbnb: http://insideairbnb.com/get-the-data\n",
    "\n",
    "We plan to upload those contextual datasets to github site first to make sure we load the data correctly. \n",
    "- reviews.csv (12 MB): https://raw.githubusercontent.com/shenylin/shenylin.github.io/main/reviews.csv\n",
    "- neighbourhoods.geojson (28.2 KB): https://raw.githubusercontent.com/shenylin/shenylin.github.io/main/neighbourhoods.geojson"
   ]
  },
  {
   "cell_type": "markdown",
   "id": "59b60e61",
   "metadata": {},
   "source": [
    "# Reference\n",
    "used code from class: https://uiuc-ischool-dataviz.github.io/is445_oauoag_fall2022/nbv.html?notebook_name=%2Fis445_oauoag_fall2022%2Fweek11%2Fprep_notebook_week11.ipynb\n",
    "\n",
    "used code from "
   ]
  }
 ],
 "metadata": {
  "kernelspec": {
   "display_name": "Python 3 (ipykernel)",
   "language": "python",
   "name": "python3"
  },
  "language_info": {
   "codemirror_mode": {
    "name": "ipython",
    "version": 3
   },
   "file_extension": ".py",
   "mimetype": "text/x-python",
   "name": "python",
   "nbconvert_exporter": "python",
   "pygments_lexer": "ipython3",
   "version": "3.8.13"
  }
 },
 "nbformat": 4,
 "nbformat_minor": 5
}
